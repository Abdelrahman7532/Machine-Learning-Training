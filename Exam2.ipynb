{
  "nbformat": 4,
  "nbformat_minor": 0,
  "metadata": {
    "colab": {
      "name": "Exam2.ipynb",
      "provenance": [],
      "include_colab_link": true
    },
    "kernelspec": {
      "name": "python3",
      "display_name": "Python 3"
    },
    "language_info": {
      "name": "python"
    }
  },
  "cells": [
    {
      "cell_type": "markdown",
      "metadata": {
        "id": "view-in-github",
        "colab_type": "text"
      },
      "source": [
        "<a href=\"https://colab.research.google.com/github/Abdelrahman7532/Machine-Learning-Training/blob/main/Exam2.ipynb\" target=\"_parent\"><img src=\"https://colab.research.google.com/assets/colab-badge.svg\" alt=\"Open In Colab\"/></a>"
      ]
    },
    {
      "cell_type": "markdown",
      "metadata": {
        "id": "5wXGR30b9re6"
      },
      "source": [
        "# Question 1\n",
        "Write a program that asks the user to enter the amount that he or she has budgeted for a month. A loop should then prompt the user to enter each of his or her expenses for the month and keep a running total. When the loop finishes, the program should display the amount that the user is over or under budget."
      ]
    },
    {
      "cell_type": "code",
      "metadata": {
        "id": "VqHLKlqN9orp",
        "colab": {
          "base_uri": "https://localhost:8080/"
        },
        "outputId": "a114337a-f81e-44ff-af43-2133c2ba048a"
      },
      "source": [
        "budget=int(input(\"Enput Your budget for this month : \"))\n",
        "total =0\n",
        "print(\"Write all your expenses for  this month and when you finsh Enter any letter\")\n",
        "expenses =0\n",
        "while True :\n",
        "  val=input(\"Enput Your expenses Or any char to exit : \")\n",
        "  if (val.isdigit()) :\n",
        "    expenses=int(val)\n",
        "    total += expenses\n",
        "  else:\n",
        "    break\n",
        "\n",
        "if total > budget:  \n",
        "  print(\"You have exceeded the budget by : \",total-budget)\n",
        "elif (total==budget):\n",
        "  print(\"You spent all your budget for the month \")\n",
        "else:\n",
        "  print(\"You spent less than your budget for the month by : \",budget-total)\n",
        "\n",
        "\n",
        "\n"
      ],
      "execution_count": 99,
      "outputs": [
        {
          "output_type": "stream",
          "text": [
            "Enput Your budget for this month : 100\n",
            "Write all your expenses for  this month and when you finsh Enter any letter\n",
            "Enput Your expenses Or any char to exit : 20\n",
            "Enput Your expenses Or any char to exit : 40\n",
            "Enput Your expenses Or any char to exit : 35\n",
            "Enput Your expenses Or any char to exit : 19\n",
            "Enput Your expenses Or any char to exit : r\n",
            "You have exceeded the budget by :  14\n"
          ],
          "name": "stdout"
        }
      ]
    },
    {
      "cell_type": "markdown",
      "metadata": {
        "id": "kGBuj9Rk-veL"
      },
      "source": [
        "# Question 2 \n",
        "Write a function named max that accepts two integer values as arguments and returns the\n",
        "value that is the greater of the two. For example, if 7 and 12 are passed as arguments to\n",
        "the function, the function should return 12. Use the function in a program that prompts the\n",
        "user to enter two integer values. The program should display the value that is the greater\n",
        "of the two."
      ]
    },
    {
      "cell_type": "code",
      "metadata": {
        "id": "3psMKiEQ-m6k",
        "colab": {
          "base_uri": "https://localhost:8080/"
        },
        "outputId": "06311dec-cb36-4847-daba-b129a3459000"
      },
      "source": [
        "def main():\n",
        "  p=prompt()\n",
        "  maximum(p[0],p[1])\n",
        "  value = maximum(p[0],p[1])\n",
        "  result(value)\n",
        "\n",
        "def prompt():\n",
        "  x=int(input(\"Enter the first number\"))\n",
        "  y=int(input(\"Enter the second number\"))\n",
        "  return ([x,y])\n",
        "\n",
        "def maximum(x,y):\n",
        "  if x>y:\n",
        "    return x\n",
        "  else:\n",
        "    return y\n",
        "def result(value):\n",
        "  print(value,\"has the greater value\")\n",
        "\n",
        "main()"
      ],
      "execution_count": 58,
      "outputs": [
        {
          "output_type": "stream",
          "text": [
            "Enter the first number55\n",
            "Enter the second number77\n",
            "77 has the greater value\n"
          ],
          "name": "stdout"
        }
      ]
    },
    {
      "cell_type": "markdown",
      "metadata": {
        "id": "2QJ4_LYe_QyM"
      },
      "source": [
        "# Question 3\n",
        "Write a program that asks the user for the name of a file. The program should display the\n",
        "contents of the file with each line preceded with a line number followed by a . The\n",
        "line numbering should start at 1."
      ]
    },
    {
      "cell_type": "code",
      "metadata": {
        "id": "W4e1yiBwipFb"
      },
      "source": [
        "# First I'll creat a file. \n",
        "myfile = open('Abdelrahman.txt', 'w')\n",
        "myfile.write('My name is Abdelrahman Ali\\n')\n",
        "myfile.write('Iam an Electronics and communication Engineer student\\n')\n",
        "myfile.write('My ID is 20196710\\n')\n",
        "myfile.write('My github username is Abdelrahman7532\\n')\n",
        "myfile.close()\n"
      ],
      "execution_count": 109,
      "outputs": []
    },
    {
      "cell_type": "code",
      "metadata": {
        "id": "z_9PEjmp_P7c",
        "colab": {
          "base_uri": "https://localhost:8080/"
        },
        "outputId": "82190c41-668d-4a20-a094-5b7af5d2ffbe"
      },
      "source": [
        "# then\n",
        "filename=input(\"What is the name of the file do you want to display its content \")\n",
        "#filename+=\".txt\"\n",
        "myfile = open(filename+'.txt', 'r')\n",
        "\n",
        "s=1\n",
        "for a in myfile:\n",
        "  print(s,\":\",a,end=\"\")\n",
        "  s+=1\n",
        "myfile.close()"
      ],
      "execution_count": 111,
      "outputs": [
        {
          "output_type": "stream",
          "text": [
            "What is the name of the file do you want to display its content Abdelrahman\n",
            "1 : My name is Abdelrahman Ali\n",
            "2 : Iam an Electronics and communication Engineer student\n",
            "3 : My ID is 20196710\n",
            "4 : My github username is Abdelrahman7532\n"
          ],
          "name": "stdout"
        }
      ]
    },
    {
      "cell_type": "markdown",
      "metadata": {
        "id": "mWPrmdWDAHJK"
      },
      "source": [
        "# Question 4\n",
        "Write a program that reads a string from the user containing a date in the form mm/dd/yyyy. It should print the date in the form March 12, 2014."
      ]
    },
    {
      "cell_type": "code",
      "metadata": {
        "id": "7o6o25d6AMDj",
        "colab": {
          "base_uri": "https://localhost:8080/"
        },
        "outputId": "8f33a256-77c8-41d3-8de6-ad8a7d651a60"
      },
      "source": [
        "months=['January','February','March','April','May','June',\n",
        "        'July','August','September','October','November','December']\n",
        "st=input(\"Input the Date in the format mm/dd/yyyy: \")\n",
        "s=st.split(\"/\")\n",
        "month=months[int(d[0])-1]\n",
        "print(month , int(d[1]) , ',' , int(d[2]) )"
      ],
      "execution_count": 114,
      "outputs": [
        {
          "output_type": "stream",
          "text": [
            "Input the Date in the format mm/dd/yyyy: 4/21/19997\n",
            "April 21 , 19997\n"
          ],
          "name": "stdout"
        }
      ]
    },
    {
      "cell_type": "markdown",
      "metadata": {
        "id": "jSxraWwFqJ6b"
      },
      "source": [
        "# Question 5\n",
        "Write a class named Person with data attributes for a person’s name, address, and telephone number. Next, write a class named Customer that is a subclass of the Person class.\n",
        "The Customer class should have a data attribute for a customer number and a Boolean\n",
        "data attribute indicating whether the customer wishes to be on a mailing list. Demonstrate\n",
        "an instance of the Customer class in a simple program."
      ]
    },
    {
      "cell_type": "code",
      "metadata": {
        "id": "s5A4itpdA2K0",
        "colab": {
          "base_uri": "https://localhost:8080/"
        },
        "outputId": "e92a7025-59d3-43ad-ea2c-1c27ea7b3438"
      },
      "source": [
        "class Person:\n",
        "  def __init__ (self,name,adress,telephone):\n",
        "      self.__name=name\n",
        "      self.__adress=adress\n",
        "      self.__telephone=telephone\n",
        "\n",
        "  def set_name (self,name):\n",
        "      self.__name=name\n",
        "  def get_name (self):\n",
        "    return self.__name\n",
        "\n",
        "  def set_adress (self,adress):\n",
        "      self.__adress=adress\n",
        "  def get_adress (self):\n",
        "    return self.__adress\n",
        "\n",
        "  def set_telephone (self,telephone):\n",
        "      self.__telephone=telephone\n",
        "  def get_telephone (self):\n",
        "    return self.__telephone\n",
        "\n",
        "\n",
        "class Customer(Person):\n",
        "  def __init__ (self,name,adress,telephone,number,mail):\n",
        "      Person. __init__(self,name,adress,telephone)\n",
        "      self.__number=number\n",
        "      self.__mail=mail\n",
        "\n",
        "  def set_number (self,number):\n",
        "      self.__number=number\n",
        "  def get_number (self):\n",
        "    return self.__number\n",
        "\n",
        "  def set_mail (self,mail):\n",
        "      self.__mail=number\n",
        "  def get_mail (self):\n",
        "    return self.__mail\n",
        "\n",
        "  def duty(self):\n",
        "    if (self.get_mail()):\n",
        "      print(\"Yoy have to send massage to telephone no\",self.get_telephone())\n",
        "\n",
        "abdo=Customer('Abdelrahman Ali Lotfy','October','5555555555','69',False)\n",
        "hamza=Customer('Hamza Moustafa Ismael','Shourouq','777777777777','43',True)\n",
        "\n",
        "def main():\n",
        "   hamza.duty()\n",
        "\n",
        "main()"
      ],
      "execution_count": 127,
      "outputs": [
        {
          "output_type": "stream",
          "text": [
            "Yoy have to send massage to telephone no 777777777777\n"
          ],
          "name": "stdout"
        }
      ]
    },
    {
      "cell_type": "markdown",
      "metadata": {
        "id": "Psab1ArBA2Yp"
      },
      "source": [
        "Once You finish Fill the Form: https://docs.google.com/forms/d/e/1FAIpQLSeu1EmFSSURi7TYZ7LvNQREvDEeGue6enxF2j_wy2mNU-q2xw/viewform?usp=sf_link"
      ]
    }
  ]
}